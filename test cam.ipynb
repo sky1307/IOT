{
 "cells": [
  {
   "cell_type": "code",
   "execution_count": 1,
   "id": "7a5b9102",
   "metadata": {
    "scrolled": true
   },
   "outputs": [
    {
     "name": "stdout",
     "output_type": "stream",
     "text": [
      "Image 0saved\n",
      "Image 1saved\n",
      "Image 2saved\n",
      "Image 3saved\n",
      "Image 4saved\n",
      "Image 5saved\n",
      "Image 6saved\n",
      "Image 7saved\n",
      "Image 8saved\n",
      "Image 9saved\n",
      "Image 10saved\n",
      "Image 11saved\n",
      "Image 12saved\n",
      "Image 13saved\n",
      "Image 14saved\n",
      "Image 15saved\n",
      "Image 16saved\n",
      "Image 17saved\n",
      "Image 18saved\n",
      "Image 19saved\n",
      "Close\n"
     ]
    },
    {
     "data": {
      "text/plain": [
       "<function destroyAllWindows>"
      ]
     },
     "execution_count": 1,
     "metadata": {},
     "output_type": "execute_result"
    }
   ],
   "source": [
    "import cv2 # importing cv2 liberary\n",
    "cam = cv2.VideoCapture(0)\n",
    "count = 0\n",
    "while True:\n",
    "    ret, img = cam.read()\n",
    "    cv2.imshow(\"Test\", img)\n",
    "    if not ret:\n",
    "        break\n",
    "    k=cv2.waitKey(1)\n",
    "    if k%256==27:\n",
    "        print(\"Close\")\n",
    "        break\n",
    "    elif k%256==32:\n",
    "        print(\"Image \"+str(count)+\"saved\")\n",
    "        file='media/viet'+str(count)+'.jpg'\n",
    "        cv2.imwrite(file, img)\n",
    "        count +=1\n",
    "cam.release\n",
    "cv2.destroyAllWindows"
   ]
  },
  {
   "cell_type": "code",
   "execution_count": 2,
   "id": "dc40d80b",
   "metadata": {},
   "outputs": [
    {
     "ename": "SyntaxError",
     "evalue": "'yield' outside function (2715333080.py, line 12)",
     "output_type": "error",
     "traceback": [
      "\u001b[0;36m  File \u001b[0;32m\"/tmp/ipykernel_234568/2715333080.py\"\u001b[0;36m, line \u001b[0;32m12\u001b[0m\n\u001b[0;31m    yield (b'--frame\\r\\n'\u001b[0m\n\u001b[0m    ^\u001b[0m\n\u001b[0;31mSyntaxError\u001b[0m\u001b[0;31m:\u001b[0m 'yield' outside function\n"
     ]
    }
   ],
   "source": [
    "import cv2\n",
    "cap = cv2.VideoCapture(0) \n",
    "\n",
    "while True:\n",
    "    ret, frame = cap.read()\n",
    "\n",
    "    if not ret:\n",
    "        print(\"Error: failed to capture image\")\n",
    "        break\n",
    "\n",
    "    cv2.imwrite('media/demo.jpg', frame)\n",
    "    yield (b'--frame\\r\\n'\n",
    "           b'Content-Type: image/jpeg\\r\\n\\r\\n' + open('media/demo.jpg', 'rb').read() + b'\\r\\n')"
   ]
  },
  {
   "cell_type": "code",
   "execution_count": null,
   "id": "dfeeeeeb",
   "metadata": {},
   "outputs": [],
   "source": []
  }
 ],
 "metadata": {
  "kernelspec": {
   "display_name": "Python 3 (ipykernel)",
   "language": "python",
   "name": "python3"
  },
  "language_info": {
   "codemirror_mode": {
    "name": "ipython",
    "version": 3
   },
   "file_extension": ".py",
   "mimetype": "text/x-python",
   "name": "python",
   "nbconvert_exporter": "python",
   "pygments_lexer": "ipython3",
   "version": "3.9.7"
  }
 },
 "nbformat": 4,
 "nbformat_minor": 5
}
